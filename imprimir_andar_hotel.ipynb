{
  "nbformat": 4,
  "nbformat_minor": 0,
  "metadata": {
    "colab": {
      "provenance": [],
      "include_colab_link": true
    },
    "kernelspec": {
      "name": "python3",
      "display_name": "Python 3"
    },
    "language_info": {
      "name": "python"
    }
  },
  "cells": [
    {
      "cell_type": "markdown",
      "metadata": {
        "id": "view-in-github",
        "colab_type": "text"
      },
      "source": [
        "<a href=\"https://colab.research.google.com/github/erika-bedin/andares_de_predio/blob/main/imprimir_andar_hotel.ipynb\" target=\"_parent\"><img src=\"https://colab.research.google.com/assets/colab-badge.svg\" alt=\"Open In Colab\"/></a>"
      ]
    },
    {
      "cell_type": "markdown",
      "source": [
        "#Andar do Hotel\n",
        "Precisamos imprimir um número para cada andar de um hotel de 20 andares. Porém, o dono do hotel é supersticioso e optou por não ter um 13ro andar.\n",
        "\n",
        "Escreva um código que imprima todos os números exceto o número 13.\n",
        "Escreva mais dois códigos que resolvam o mesmo problema, mas dessa vez usando os outros dois tipos de laços de repetição aprendidos.\n",
        "\n",
        "Como desafio, imprima eles em ordem decrescente (20, 19, 18...)\n",
        "\n"
      ],
      "metadata": {
        "id": "puq9VPS0k6C4"
      }
    },
    {
      "cell_type": "markdown",
      "source": [
        "Obs: Para imprimir 20 andares sem o 13°, o contador precisa começar em 21, dessa forma o 21° será o andar correspondente ao 20°.\n"
      ],
      "metadata": {
        "id": "wu1jsZhMnpwC"
      }
    },
    {
      "cell_type": "markdown",
      "source": [
        "##1.0 Resolução com FOR\n",
        "Nesta resolução usei IF para que, enquanto o andar for diferente de 13 o laço imprima o andar. Somente não irá imprimir quanto o andar for igual a 13, que é o andar que o cliente quer que não exista."
      ],
      "metadata": {
        "id": "0iuWwoRnlZzK"
      }
    },
    {
      "cell_type": "code",
      "execution_count": null,
      "metadata": {
        "colab": {
          "base_uri": "https://localhost:8080/"
        },
        "id": "5ShwpUZXkP8_",
        "outputId": "645158fe-ddd0-4c91-92c1-bd907634e79f"
      },
      "outputs": [
        {
          "output_type": "stream",
          "name": "stdout",
          "text": [
            "Este é o 21° andar\n",
            "Este é o 20° andar\n",
            "Este é o 19° andar\n",
            "Este é o 18° andar\n",
            "Este é o 17° andar\n",
            "Este é o 16° andar\n",
            "Este é o 15° andar\n",
            "Este é o 14° andar\n",
            "Este é o 12° andar\n",
            "Este é o 11° andar\n",
            "Este é o 10° andar\n",
            "Este é o 9° andar\n",
            "Este é o 8° andar\n",
            "Este é o 7° andar\n",
            "Este é o 6° andar\n",
            "Este é o 5° andar\n",
            "Este é o 4° andar\n",
            "Este é o 3° andar\n",
            "Este é o 2° andar\n",
            "Este é o 1° andar\n"
          ]
        }
      ],
      "source": [
        "for andar in range(21, 0, -1):\n",
        "  if (andar != 13):\n",
        "    print(\"Este é o \" +  str(andar) + \"° andar\")"
      ]
    },
    {
      "cell_type": "markdown",
      "source": [
        "##1.1 Resolução com FOR mostrando o andar excluído\n",
        "Nesta resolução usei IF para que, enquanto o andar for diferente de 13 o laço imprima o andar. Quando o andar for igual a 13 eu mostro para o cliente que ele foi excluído."
      ],
      "metadata": {
        "id": "Tpr_k1EcqI5D"
      }
    },
    {
      "cell_type": "code",
      "source": [
        "for andar in range(21, 0, -1):\n",
        "  if (andar != 13):\n",
        "    print(\"Este é o \" +  str(andar) + \"° andar\")\n",
        "  else:\n",
        "    print(\"O \" +  str(andar) + \"° andar foi excluído\")\n",
        "    andar = andar - 1"
      ],
      "metadata": {
        "colab": {
          "base_uri": "https://localhost:8080/"
        },
        "id": "OaRSoBAdtRL5",
        "outputId": "c7bb5742-3370-4fdd-b783-14cc8960bc01"
      },
      "execution_count": null,
      "outputs": [
        {
          "output_type": "stream",
          "name": "stdout",
          "text": [
            "Este é o 21° andar\n",
            "Este é o 20° andar\n",
            "Este é o 19° andar\n",
            "Este é o 18° andar\n",
            "Este é o 17° andar\n",
            "Este é o 16° andar\n",
            "Este é o 15° andar\n",
            "Este é o 14° andar\n",
            "O 13° andar foi excluído\n",
            "Este é o 12° andar\n",
            "Este é o 11° andar\n",
            "Este é o 10° andar\n",
            "Este é o 9° andar\n",
            "Este é o 8° andar\n",
            "Este é o 7° andar\n",
            "Este é o 6° andar\n",
            "Este é o 5° andar\n",
            "Este é o 4° andar\n",
            "Este é o 3° andar\n",
            "Este é o 2° andar\n",
            "Este é o 1° andar\n"
          ]
        }
      ]
    },
    {
      "cell_type": "markdown",
      "source": [
        "##2.0 Resolução com While\n",
        "Também, nesta resolução, assim como na resolução 1.0, utilizei o IF para que o andar seja mostrado apenas quando o andar for diferente de 13.\n"
      ],
      "metadata": {
        "id": "gdQF9890lp6D"
      }
    },
    {
      "cell_type": "code",
      "source": [
        "andar = 21\n",
        "while (andar > 0):\n",
        "  if (andar != 13):\n",
        "    print(\"Este é o \" +  str(andar) + \"° andar\")\n",
        "  andar = andar - 1\n",
        "    "
      ],
      "metadata": {
        "colab": {
          "base_uri": "https://localhost:8080/"
        },
        "outputId": "1723788d-ff7b-4fec-8f93-81b22962b38f",
        "id": "U65vHdgasO92"
      },
      "execution_count": null,
      "outputs": [
        {
          "output_type": "stream",
          "name": "stdout",
          "text": [
            "Este é o 21° andar\n",
            "Este é o 20° andar\n",
            "Este é o 19° andar\n",
            "Este é o 18° andar\n",
            "Este é o 17° andar\n",
            "Este é o 16° andar\n",
            "Este é o 15° andar\n",
            "Este é o 14° andar\n",
            "Este é o 12° andar\n",
            "Este é o 11° andar\n",
            "Este é o 10° andar\n",
            "Este é o 9° andar\n",
            "Este é o 8° andar\n",
            "Este é o 7° andar\n",
            "Este é o 6° andar\n",
            "Este é o 5° andar\n",
            "Este é o 4° andar\n",
            "Este é o 3° andar\n",
            "Este é o 2° andar\n",
            "Este é o 1° andar\n"
          ]
        }
      ]
    },
    {
      "cell_type": "markdown",
      "source": [
        "##2.1 Resolução com WHILE mostrando o andar excluído\n",
        "Nesta resolução usei IF para que, enquanto o andar for diferente de 13, o laço imprima o andar. Quando o andar for igual a 13, assim como na resolução 1.1, eu mostro para o cliente que o andar foi excluído.\n"
      ],
      "metadata": {
        "id": "b4uSTGs1sYSC"
      }
    },
    {
      "cell_type": "code",
      "source": [
        "andar = 21\n",
        "while (andar > 0):\n",
        "  if (andar != 13):\n",
        "    print(\"Este é o \" +  str(andar) + \"° andar\")\n",
        "    andar = andar - 1\n",
        "  else:\n",
        "    print(\"O \" +  str(andar) + \"° andar foi excluído\")\n",
        "    andar = andar - 1\n",
        "    "
      ],
      "metadata": {
        "colab": {
          "base_uri": "https://localhost:8080/"
        },
        "id": "mrgb4_5Jkugs",
        "outputId": "065b32d0-5cb0-4ddd-d617-00be3a3f0f28"
      },
      "execution_count": null,
      "outputs": [
        {
          "output_type": "stream",
          "name": "stdout",
          "text": [
            "Este é o 21° andar\n",
            "Este é o 20° andar\n",
            "Este é o 19° andar\n",
            "Este é o 18° andar\n",
            "Este é o 17° andar\n",
            "Este é o 16° andar\n",
            "Este é o 15° andar\n",
            "Este é o 14° andar\n",
            "O 13° andar foi excluído\n",
            "Este é o 12° andar\n",
            "Este é o 11° andar\n",
            "Este é o 10° andar\n",
            "Este é o 9° andar\n",
            "Este é o 8° andar\n",
            "Este é o 7° andar\n",
            "Este é o 6° andar\n",
            "Este é o 5° andar\n",
            "Este é o 4° andar\n",
            "Este é o 3° andar\n",
            "Este é o 2° andar\n",
            "Este é o 1° andar\n"
          ]
        }
      ]
    },
    {
      "cell_type": "markdown",
      "source": [
        "##Resolução com FOR utilizando CONTINUE e BREAK\n",
        "Nesta resolução é utilizado o CONTINUE para que, quando o andar for igual a 13, ele não seja impresso e continue a executar o laço."
      ],
      "metadata": {
        "id": "2S0Fr8BPlx4o"
      }
    },
    {
      "cell_type": "code",
      "source": [
        "for andar in range(21, 0, -1):\n",
        "  if (andar == 13):\n",
        "    continue\n",
        "  if( andar == 0):\n",
        "    break\n",
        "  print(\"Este é o \" +  str(andar) + \"° andar\")"
      ],
      "metadata": {
        "colab": {
          "base_uri": "https://localhost:8080/"
        },
        "id": "TUfV3_73k1Fn",
        "outputId": "ce1b496a-f1c4-4b63-d52d-637e2f1ef975"
      },
      "execution_count": null,
      "outputs": [
        {
          "output_type": "stream",
          "name": "stdout",
          "text": [
            "Este é o 21° andar\n",
            "Este é o 20° andar\n",
            "Este é o 19° andar\n",
            "Este é o 18° andar\n",
            "Este é o 17° andar\n",
            "Este é o 16° andar\n",
            "Este é o 15° andar\n",
            "Este é o 14° andar\n",
            "Este é o 12° andar\n",
            "Este é o 11° andar\n",
            "Este é o 10° andar\n",
            "Este é o 9° andar\n",
            "Este é o 8° andar\n",
            "Este é o 7° andar\n",
            "Este é o 6° andar\n",
            "Este é o 5° andar\n",
            "Este é o 4° andar\n",
            "Este é o 3° andar\n",
            "Este é o 2° andar\n",
            "Este é o 1° andar\n"
          ]
        }
      ]
    }
  ]
}